{
 "cells": [
  {
   "cell_type": "markdown",
   "metadata": {},
   "source": [
    "# Zip And Enumerate\n",
    "\n",
    "zip and enumerate are useful built-in functions that can come in handy when dealing with loops.\n",
    "\n",
    "## Zip\n",
    "zip returns an iterator that combines multiple iterables into one sequence of tuples. Each tuple contains the elements in that position from all the iterables. For example, printing\n",
    "\n",
    "```python\n",
    "list(zip(['a', 'b', 'c'], [1, 2, 3])) \n",
    "```\n",
    "would output \n",
    "\n",
    "```python\n",
    "[('a', 1), ('b', 2), ('c', 3)].\n",
    "```\n",
    "\n",
    "Like we did for **range()** we need to convert it to a list or iterate through it with a loop to see the elements.\n",
    "\n",
    "You could unpack each tuple in a for loop like this.\n",
    "\n",
    "```python\n",
    "letters = ['a', 'b', 'c']\n",
    "nums = [1, 2, 3]\n",
    "\n",
    "for letter, num in zip(letters, nums):\n",
    "    print(\"{}: {}\".format(letter, num))\n",
    "```\n",
    "In addition to zipping two lists together, you can also unzip a list using an asterisk.\n",
    "\n",
    "```python\n",
    "some_list = [('a', 1), ('b', 2), ('c', 3)]\n",
    "letters, nums = zip(*some_list)\n",
    "This would create the same letters and nums lists we saw earlier.\n",
    "```\n",
    "\n",
    "## Enumerate\n",
    "enumerate is a built in function that returns an iterator of tuples containing indices and values of a list. You'll often use this when you want the index along with each element of an iterable in a loop.\n",
    "\n",
    "```python\n",
    "letters = ['a', 'b', 'c', 'd', 'e']\n",
    "for i, letter in enumerate(letters):\n",
    "    print(i, letter)\n",
    "```\n",
    "\n",
    "This code would output:\n",
    "\n",
    "```\n",
    "0 a\n",
    "1 b\n",
    "2 c\n",
    "3 d\n",
    "4 e\n",
    "```"
   ]
  },
  {
   "cell_type": "markdown",
   "metadata": {},
   "source": [
    "## Quiz: Zip Coordinates\n",
    "\n",
    "Use `zip` to write a `for` loop that creates a string specifying the label and coordinates of each point and appends it to the list `points`. Each string should be formatted as label: `x, y, z`. For example, the string for the first coordinate should be `F: 23, 677, 4`."
   ]
  },
  {
   "cell_type": "code",
   "execution_count": 1,
   "metadata": {},
   "outputs": [
    {
     "name": "stdout",
     "output_type": "stream",
     "text": [
      "F: 23, 677, 4\n",
      "J: 53, 233, 16\n",
      "A: 2, 405, -6\n",
      "Q: -12, 433, -42\n",
      "Y: 95, 905, 3\n",
      "B: 103, 376, -6\n",
      "W: 14, 432, 23\n",
      "X: -5, 445, -1\n"
     ]
    }
   ],
   "source": [
    "x_coord = [23, 53, 2, -12, 95, 103, 14, -5]\n",
    "y_coord = [677, 233, 405, 433, 905, 376, 432, 445]\n",
    "z_coord = [4, 16, -6, -42, 3, -6, 23, -1]\n",
    "labels = [\"F\", \"J\", \"A\", \"Q\", \"Y\", \"B\", \"W\", \"X\"]\n",
    "\n",
    "points = []\n",
    "# write your for loop here\n",
    "index = 0\n",
    "for labels, x, y, z in zip(labels, x_coord, y_coord, z_coord ):\n",
    "    # points[index] = \"{}: {}, {}, {}\".format(labels, x, y, z)\n",
    "    points.append(\"{}: {}, {}, {}\".format(labels, x, y, z))\n",
    "    index += 1\n",
    "\n",
    "for point in points:\n",
    "    print(point)"
   ]
  },
  {
   "cell_type": "markdown",
   "metadata": {},
   "source": [
    "## Quiz: Zip Lists to a Dictionary\n",
    "\n",
    "Use zip to create a dictionary cast that uses names as keys and heights as values."
   ]
  }
 ],
 "metadata": {
  "kernelspec": {
   "display_name": "Python 3",
   "language": "python",
   "name": "python3"
  },
  "language_info": {
   "codemirror_mode": {
    "name": "ipython",
    "version": 3
   },
   "file_extension": ".py",
   "mimetype": "text/x-python",
   "name": "python",
   "nbconvert_exporter": "python",
   "pygments_lexer": "ipython3",
   "version": "3.6.5"
  }
 },
 "nbformat": 4,
 "nbformat_minor": 2
}
