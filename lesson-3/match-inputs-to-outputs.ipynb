{
 "cells": [
  {
   "cell_type": "markdown",
   "metadata": {},
   "source": [
    "# Match Inputs To Outputs"
   ]
  },
  {
   "cell_type": "markdown",
   "metadata": {},
   "source": [
    ">Test Your Loop Knowledge\n",
    "\n",
    "In case you want to test any code for the quizzes that follow, there is a code editor at the bottom of this page where you can experiment."
   ]
  },
  {
   "cell_type": "markdown",
   "metadata": {},
   "source": [
    "## Q1: Practice with range\n",
    "\n",
    "For each below, match the input code to the appropriate output."
   ]
  },
  {
   "cell_type": "code",
   "execution_count": 2,
   "metadata": {},
   "outputs": [
    {
     "name": "stdout",
     "output_type": "stream",
     "text": [
      "[0, 1, 2, 3]\n",
      "[4, 5, 6, 7]\n",
      "[4, 6, 8]\n",
      "[]\n"
     ]
    }
   ],
   "source": [
    "print(list(range(4)))\n",
    "print(list(range(4,8)))\n",
    "print(list(range(4,10,2)))\n",
    "print(list(range(0,-5)))\n"
   ]
  },
  {
   "cell_type": "markdown",
   "metadata": {},
   "source": [
    "## Q2:\n",
    "\n",
    "If you want to create a new list called lower_colors, where each color in colors is lower cased, which code would do this?\n",
    "\n",
    "Use the code below to complete the quiz.\n",
    "```\n",
    "colors = ['Red', 'Blue', 'Green', 'Purple']\n",
    "lower_colors = [ ]\n",
    "\n",
    "for color in colors:\n",
    "    #finish this part\n",
    "```\n",
    "\n",
    "* `lower_colors[color.lower()]`\n",
    "* `lower_colors.append(lower(color))`\n",
    "* `lower_colors.add(color.lower())`\n",
    "* **`lower_colors.append(color.lower())`** "
   ]
  },
  {
   "cell_type": "markdown",
   "metadata": {},
   "source": [
    "\n"
   ]
  }
 ],
 "metadata": {
  "kernelspec": {
   "display_name": "Python 3",
   "language": "python",
   "name": "python3"
  },
  "language_info": {
   "codemirror_mode": {
    "name": "ipython",
    "version": 3
   },
   "file_extension": ".py",
   "mimetype": "text/x-python",
   "name": "python",
   "nbconvert_exporter": "python",
   "pygments_lexer": "ipython3",
   "version": "3.6.5"
  }
 },
 "nbformat": 4,
 "nbformat_minor": 2
}
