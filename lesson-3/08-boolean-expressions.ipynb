{
 "cells": [
  {
   "cell_type": "markdown",
   "metadata": {},
   "source": [
    "# Boolean Expression for Conditions\n",
    "\n",
    "## Question 1:\n",
    "\n",
    "Imagine an air traffic control program that tracks three variables, altitude, speed, and propulsion which for a particular airplane have the values specified below.\n",
    "\n",
    "```\n",
    "altitude = 10000\n",
    "speed = 250\n",
    "propulsion = \"Propeller\"\n",
    "```\n",
    "\n",
    "For each of the following boolean expressions, work out whether it evaluates to True or False and match the correct value.\n",
    "\n",
    "#### Answer:\n",
    "\n",
    "* altitude < 1000 and speed > 100\n",
    "> **False**\n",
    "\n",
    "* (propulsion == \"Jet\" or propulsion == \"Turboprop\") and speed < 300 and altitude > 20000\n",
    "> **False**\n",
    "\n",
    "* not (speed > 400 and propulsion == \"Propeller\") --- True\n",
    "> **True**\n",
    "* (altitude > 500 and speed > 100) or not propulsion == \"Propeller\" \n",
    "> **True**\n"
   ]
  },
  {
   "cell_type": "markdown",
   "metadata": {},
   "source": [
    "## Using Truth Values of Objects\n",
    "\n",
    "The code below is the solution to the Which Prize quiz you've seen previously. You're going to rewrite this based on what you've learned about truth values.\n",
    "\n",
    "```\n",
    "points = 174\n",
    "\n",
    "if points <= 50:\n",
    "    result = \"Congratulations! You won a wooden rabbit!\"\n",
    "elif points <= 150:\n",
    "    result = \"Oh dear, no prize this time.\"\n",
    "elif points <= 180:\n",
    "    result = \"Congratulations! You won a wafer-thin mint!\"\n",
    "else:\n",
    "    result = \"Congratulations! You won a penguin!\"\n",
    "\n",
    "print(result)\n",
    "\n",
    "```\n",
    "\n",
    "You will use a new variable prize to store a prize name if one was won, and then use the truth value of this variable to compose the result message. This will involve two if statements.\n",
    "\n",
    "* 1st conditional statement: update prize to the correct prize name based on points.\n",
    "* 2nd conditional statement: set result to the correct phrase based on whether prize is evaluated as True or False.\n",
    "\n",
    "If prize is `None`, result should be set to *\"Oh dear, no prize this time.\"*\n",
    "If prize contains a prize name, result should be set to *\"Congratulations! You won a {}!\"*.format(prize). This will avoid having the multiple result assignments for different prizes.\n",
    "\n",
    "At the beginning of your code, set prize to `None`, as the default value."
   ]
  },
  {
   "cell_type": "code",
   "execution_count": 1,
   "metadata": {},
   "outputs": [
    {
     "name": "stdout",
     "output_type": "stream",
     "text": [
      "Congratulations! You won a wafer-thin mint!\n"
     ]
    }
   ],
   "source": [
    "points = 174  # use this input when submitting your answer\n",
    "\n",
    "# set prize to default value of None\n",
    "prize = \"None\"\n",
    "\n",
    "# use the value of points to assign prize to the correct prize name\n",
    "\n",
    "if points <= 50:\n",
    "    prize = \"wooden rabbit\"\n",
    "elif points <= 150:\n",
    "    prize = \"None\"\n",
    "elif points <= 180:\n",
    "    prize = \"wafer-thin mint\"\n",
    "else:\n",
    "    prize = \"penguin\"\n",
    "\n",
    "# use the truth value of prize to assign result to the correct message\n",
    "if prize == \"None\":\n",
    "    result = \"Oh dear, no prize this time.\"\n",
    "else:\n",
    "    result = \"Congratulations! You won a {}!\".format(prize)\n",
    "\n",
    "print(result)"
   ]
  }
 ],
 "metadata": {
  "kernelspec": {
   "display_name": "Python 3",
   "language": "python",
   "name": "python3"
  },
  "language_info": {
   "codemirror_mode": {
    "name": "ipython",
    "version": 3
   },
   "file_extension": ".py",
   "mimetype": "text/x-python",
   "name": "python",
   "nbconvert_exporter": "python",
   "pygments_lexer": "ipython3",
   "version": "3.6.5"
  }
 },
 "nbformat": 4,
 "nbformat_minor": 2
}
