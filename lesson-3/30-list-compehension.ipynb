{
 "cells": [
  {
   "cell_type": "markdown",
   "metadata": {},
   "source": [
    "# List Comprehensions\n",
    "\n",
    "In Python, you can create lists really quickly and concisely with list comprehensions. This example from earlier:\n",
    "\n",
    "```python\n",
    "capitalized_cities = []\n",
    "for city in cities:\n",
    "    capitalized_cities.append(city.title())\n",
    "```\n",
    "can be reduced to:\n",
    "\n",
    "```python\n",
    "capitalized_cities = [city.title() for city in cities]\n",
    "```\n",
    "\n",
    "List comprehensions allow us to create a list using a for loop in one step.\n",
    "\n",
    "You create a list comprehension with brackets [], including an expression to evaluate for each element in an iterable. This list comprehension above calls city.title() for each element city in cities, to create each element in the new list, capitalized_cities.\n",
    "\n",
    "## Conditionals in List Comprehensions\n",
    "\n",
    "You can also add conditionals to list comprehensions (listcomps). After the iterable, you can use the if keyword to check a condition in each iteration.\n",
    "\n",
    "```python\n",
    "squares = [x**2 for x in range(9) if x % 2 == 0]\n",
    "```\n",
    "\n",
    "The code above sets squares equal to the list [0, 4, 16, 36, 64], as x to the power of 2 is only evaluated if x is even. If you want to add an else, you will get a syntax error doing this.\n",
    "\n",
    "```python\n",
    "squares = [x**2 for x in range(9) if x % 2 == 0 else x + 3]\n",
    "```\n",
    "\n",
    "If you would like to add else, you have to move the conditionals to the beginning of the listcomp, right after the expression, like this.\n",
    "\n",
    "```python\n",
    "squares = [x**2 if x % 2 == 0 else x + 3 for x in range(9)]\n",
    "```\n",
    "\n",
    "List comprehensions are not found in other languages, but are very common in python."
   ]
  },
  {
   "cell_type": "markdown",
   "metadata": {},
   "source": [
    "## Quiz: Extract First Names\n",
    "\n",
    "Use a list comprehension to create a new list first_names containing just the first names in names in lowercase."
   ]
  },
  {
   "cell_type": "code",
   "execution_count": 1,
   "metadata": {},
   "outputs": [
    {
     "name": "stdout",
     "output_type": "stream",
     "text": [
      "['rick', 'morty', 'summer', 'jerry', 'beth']\n"
     ]
    }
   ],
   "source": [
    "names = [\"Rick Sanchez\", \"Morty Smith\", \"Summer Smith\", \"Jerry Smith\", \"Beth Smith\"]\n",
    "\n",
    "first_names = [name.lower().split(' ')[0] for name in names]# write your list comprehension here\n",
    "print(first_names)"
   ]
  },
  {
   "cell_type": "markdown",
   "metadata": {},
   "source": [
    "## Quiz: Multiples of Three\n",
    "\n",
    "Use a list comprehension to create a list multiples_3 containing the first 20 multiples of 3."
   ]
  },
  {
   "cell_type": "code",
   "execution_count": 3,
   "metadata": {},
   "outputs": [
    {
     "name": "stdout",
     "output_type": "stream",
     "text": [
      "[3, 6, 9, 12, 15, 18, 21, 24, 27, 30, 33, 36, 39, 42, 45, 48, 51, 54, 57, 60]\n"
     ]
    }
   ],
   "source": [
    "multiples_3 = [(n+1)*3 for n in range(20) ]# write your list comprehension here\n",
    "print(multiples_3)"
   ]
  },
  {
   "cell_type": "code",
   "execution_count": null,
   "metadata": {},
   "outputs": [],
   "source": [
    "## Quiz: Filter Names by Scores\n",
    "\n",
    "Use a list comprehension to create a list of names passed that only include those that scored at least 65.\n"
   ]
  },
  {
   "cell_type": "code",
   "execution_count": 7,
   "metadata": {},
   "outputs": [
    {
     "name": "stdout",
     "output_type": "stream",
     "text": [
      "['Rick Sanchez', 'Summer Smith', 'Beth Smith']\n"
     ]
    }
   ],
   "source": [
    "scores = {\n",
    "             \"Rick Sanchez\": 70,\n",
    "             \"Morty Smith\": 35,\n",
    "             \"Summer Smith\": 82,\n",
    "             \"Jerry Smith\": 23,\n",
    "             \"Beth Smith\": 98\n",
    "          }\n",
    "passed = [ name for name, score in scores.items() if score >= 65] # write your list comprehension here\n",
    "print(passed)"
   ]
  }
 ],
 "metadata": {
  "kernelspec": {
   "display_name": "Python 3",
   "language": "python",
   "name": "python3"
  },
  "language_info": {
   "codemirror_mode": {
    "name": "ipython",
    "version": 3
   },
   "file_extension": ".py",
   "mimetype": "text/x-python",
   "name": "python",
   "nbconvert_exporter": "python",
   "pygments_lexer": "ipython3",
   "version": "3.6.5"
  }
 },
 "nbformat": 4,
 "nbformat_minor": 2
}
