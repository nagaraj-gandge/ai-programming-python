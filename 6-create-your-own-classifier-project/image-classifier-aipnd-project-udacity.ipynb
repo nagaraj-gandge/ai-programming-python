{
  "nbformat": 4,
  "nbformat_minor": 0,
  "metadata": {
    "colab": {
      "name": "Image Classifier Project.ipynb",
      "version": "0.3.2",
      "provenance": [],
      "collapsed_sections": [],
      "include_colab_link": true
    },
    "kernelspec": {
      "display_name": "Python 3",
      "language": "python",
      "name": "python3"
    },
    "accelerator": "GPU"
  },
  "cells": [
    {
      "cell_type": "markdown",
      "metadata": {
        "id": "view-in-github",
        "colab_type": "text"
      },
      "source": [
        "[View in Colaboratory](https://colab.research.google.com/github/yoelrc88/ai-programming-python/blob/master/6-create-your-own-classifier-project/image-classifier-aipnd-project-udacity.ipynb)"
      ]
    },
    {
      "metadata": {
        "id": "VMcV-HfHNEDR",
        "colab_type": "text"
      },
      "cell_type": "markdown",
      "source": [
        "# Developing an AI application\n",
        "\n",
        "Going forward, AI algorithms will be incorporated into more and more everyday applications. For example, you might want to include an image classifier in a smart phone app. To do this, you'd use a deep learning model trained on hundreds of thousands of images as part of the overall application architecture. A large part of software development in the future will be using these types of models as common parts of applications. \n",
        "\n",
        "In this project, you'll train an image classifier to recognize different species of flowers. You can imagine using something like this in a phone app that tells you the name of the flower your camera is looking at. In practice you'd train this classifier, then export it for use in your application. We'll be using [this dataset](http://www.robots.ox.ac.uk/~vgg/data/flowers/102/index.html) of 102 flower categories, you can see a few examples below. \n",
        "\n",
        "<img src='https://github.com/udacity/aipnd-project/blob/master/assets/Flowers.png?raw=true' width=500px>\n",
        "\n",
        "The project is broken down into multiple steps:\n",
        "\n",
        "* Load and preprocess the image dataset\n",
        "* Train the image classifier on your dataset\n",
        "* Use the trained classifier to predict image content\n",
        "\n",
        "We'll lead you through each part which you'll implement in Python.\n",
        "\n",
        "When you've completed this project, you'll have an application that can be trained on any set of labeled images. Here your network will be learning about flowers and end up as a command line application. But, what you do with your new skills depends on your imagination and effort in building a dataset. For example, imagine an app where you take a picture of a car, it tells you what the make and model is, then looks up information about it. Go build your own dataset and make something new.\n",
        "\n",
        "First up is importing the packages you'll need. It's good practice to keep all the imports at the beginning of your code. As you work through this notebook and find you need to import a package, make sure to add the import up here."
      ]
    },
    {
      "metadata": {
        "id": "gEAEl-ZP8J-z",
        "colab_type": "text"
      },
      "cell_type": "markdown",
      "source": [
        "## Setting up"
      ]
    },
    {
      "metadata": {
        "id": "obRscBf7PBfZ",
        "colab_type": "text"
      },
      "cell_type": "markdown",
      "source": [
        "### Imports"
      ]
    },
    {
      "metadata": {
        "id": "9gVFVl7BqO9u",
        "colab_type": "code",
        "colab": {}
      },
      "cell_type": "code",
      "source": [
        "import time\n",
        "import torch\n",
        "from torch import nn\n",
        "from torch import optim\n",
        "import torchvision\n",
        "from torchvision import datasets, transforms, models\n",
        "from collections import OrderedDict\n",
        "import json\n",
        "from PIL import Image\n",
        "from torch.autograd import Variable\n",
        "import numpy as np\n",
        "import matplotlib.pyplot as plt\n",
        "\n",
        "print('torch version: ', torch.__version__)\n",
        "print('torchvision: version', torchvision.__version__)\n",
        "print('PIL version: ', Image.PILLOW_VERSION)"
      ],
      "execution_count": 0,
      "outputs": []
    },
    {
      "metadata": {
        "id": "tC9ouxazNEDZ",
        "colab_type": "text"
      },
      "cell_type": "markdown",
      "source": [
        "\n",
        "\n",
        "```\n",
        "# This is formatted as code\n",
        "```\n",
        "\n",
        "## Load the dataset\n",
        "\n",
        "Here you'll use `torchvision` to load the data ([documentation](http://pytorch.org/docs/0.3.0/torchvision/index.html)). The data should be included alongside this notebook, otherwise you can [download it here](https://s3.amazonaws.com/content.udacity-data.com/nd089/flower_data.tar.gz). The dataset is split into three parts, training, validation, and testing. For the training, you'll want to apply transformations such as random scaling, cropping, and flipping. This will help the network generalize leading to better performance. You'll also need to make sure the input data is resized to 224x224 pixels as required by the pre-trained networks.\n",
        "\n",
        "The validation and testing sets are used to measure the model's performance on data it hasn't seen yet. For this you don't want any scaling or rotation transformations, but you'll need to resize then crop the images to the appropriate size.\n",
        "\n",
        "The pre-trained networks you'll use were trained on the ImageNet dataset where each color channel was normalized separately. For all three sets you'll need to normalize the means and standard deviations of the images to what the network expects. For the means, it's `[0.485, 0.456, 0.406]` and for the standard deviations `[0.229, 0.224, 0.225]`, calculated from the ImageNet images.  These values will shift each color channel to be centered at 0 and range from -1 to 1.\n",
        " "
      ]
    },
    {
      "metadata": {
        "id": "dowNRBEXNEDb",
        "colab_type": "code",
        "colab": {}
      },
      "cell_type": "code",
      "source": [
        "data_dir = 'flowers'\n",
        "train_dir = data_dir + '/train'\n",
        "valid_dir = data_dir + '/valid'\n",
        "test_dir = data_dir + '/test'"
      ],
      "execution_count": 0,
      "outputs": []
    },
    {
      "metadata": {
        "id": "1pbpV0SPNEDd",
        "colab_type": "code",
        "colab": {}
      },
      "cell_type": "code",
      "source": [
        "# TODO: Define your transforms for the training, validation, and testing sets\n",
        "data_transforms_train = transforms.Compose([transforms.RandomRotation(30, False, True),\n",
        "                                            transforms.RandomResizedCrop(224),\n",
        "                                            transforms.RandomHorizontalFlip(),\n",
        "                                            transforms.ToTensor(),\n",
        "                                            transforms.Normalize([0.485, 0.456, 0.406], \n",
        "                                                                 [0.229, 0.224, 0.225])])\n",
        "data_transforms_valid = transforms.Compose([transforms.Resize(256),\n",
        "                                            transforms.CenterCrop(224),\n",
        "                                            transforms.ToTensor(),\n",
        "                                            transforms.Normalize([0.485, 0.456, 0.406], \n",
        "                                                                 [0.229, 0.224, 0.225])])\n",
        "data_transforms_test = transforms.Compose([transforms.Resize(256),\n",
        "                                           transforms.CenterCrop(224),\n",
        "                                           transforms.ToTensor(),\n",
        "                                           transforms.Normalize([0.485, 0.456, 0.406], \n",
        "                                                                [0.229, 0.224, 0.225])])\n",
        "    \n",
        "# TODO: Load the datasets with ImageFolder\n",
        "image_dataset_train = datasets.ImageFolder(train_dir, transform=data_transforms_train)\n",
        "image_dataset_valid = datasets.ImageFolder(valid_dir, transform=data_transforms_valid)\n",
        "image_dataset_test  = datasets.ImageFolder(test_dir, transform=data_transforms_test)\n",
        "\n",
        "\n",
        "# TODO: Using the image datasets and the transforms, define the dataloaders\n",
        "dataloader_train  = torch.utils.data.DataLoader(image_dataset_train, batch_size=64, shuffle=True)\n",
        "dataloader_valid = torch.utils.data.DataLoader(image_dataset_valid, batch_size=32)\n",
        "dataloader_test  = torch.utils.data.DataLoader(image_dataset_test, batch_size=32)\n",
        "\n",
        "# Number of images in the loaders\n",
        "train_num = len(image_dataset_train.imgs)\n",
        "print(\"Train dataset count:     \", train_num)\n",
        "\n",
        "valid_num = len(image_dataset_valid.imgs)\n",
        "print(\"Validation dataset count:\", valid_num)\n",
        "\n",
        "test_num = len(image_dataset_test.imgs)\n",
        "print(\"Test dataset count:      \",test_num)\n",
        "\n",
        "class_to_idx = image_dataset_train.class_to_idx"
      ],
      "execution_count": 0,
      "outputs": []
    },
    {
      "metadata": {
        "id": "d8r0nprSNEDg",
        "colab_type": "text"
      },
      "cell_type": "markdown",
      "source": [
        "### Label mapping\n",
        "\n",
        "You'll also need to load in a mapping from category label to category name. You can find this in the file `cat_to_name.json`. It's a JSON object which you can read in with the [`json` module](https://docs.python.org/2/library/json.html). This will give you a dictionary mapping the integer encoded categories to the actual names of the flowers."
      ]
    },
    {
      "metadata": {
        "id": "k5_rrT9nNEDi",
        "colab_type": "code",
        "colab": {}
      },
      "cell_type": "code",
      "source": [
        "with open('cat_to_name.json', 'r') as f:\n",
        "    cat_to_name = json.load(f)"
      ],
      "execution_count": 0,
      "outputs": []
    },
    {
      "metadata": {
        "id": "RSIlV0gONEDm",
        "colab_type": "text"
      },
      "cell_type": "markdown",
      "source": [
        "## Building and training the classifier\n",
        "\n",
        "Now that the data is ready, it's time to build and train the classifier. As usual, you should use one of the pretrained models from `torchvision.models` to get the image features. Build and train a new feed-forward classifier using those features.\n",
        "\n",
        "We're going to leave this part up to you. If you want to talk through it with someone, chat with your fellow students! You can also ask questions on the forums or join the instructors in office hours.\n",
        "\n",
        "Refer to [the rubric](https://review.udacity.com/#!/rubrics/1663/view) for guidance on successfully completing this section. Things you'll need to do:\n",
        "\n",
        "* Load a [pre-trained network](http://pytorch.org/docs/master/torchvision/models.html) (If you need a starting point, the VGG networks work great and are straightforward to use)\n",
        "* Define a new, untrained feed-forward network as a classifier, using ReLU activations and dropout\n",
        "* Train the classifier layers using backpropagation using the pre-trained network to get the features\n",
        "* Track the loss and accuracy on the validation set to determine the best hyperparameters\n",
        "\n",
        "We've left a cell open for you below, but use as many as you need. Our advice is to break the problem up into smaller parts you can run separately. Check that each part is doing what you expect, then move on to the next. You'll likely find that as you work through each part, you'll need to go back and modify your previous code. This is totally normal!\n",
        "\n",
        "When training make sure you're updating only the weights of the feed-forward network. You should be able to get the validation accuracy above 70% if you build everything right. Make sure to try different hyperparameters (learning rate, units in the classifier, epochs, etc) to find the best model. Save those hyperparameters to use as default values in the next part of the project."
      ]
    },
    {
      "metadata": {
        "id": "CrQH-DAbHzqy",
        "colab_type": "text"
      },
      "cell_type": "markdown",
      "source": [
        "###  Build the network "
      ]
    },
    {
      "metadata": {
        "id": "X0rJkH-mNEDn",
        "colab_type": "code",
        "colab": {}
      },
      "cell_type": "code",
      "source": [
        "def build_model_vgg19(class_to_idx, \n",
        "                      hidden_units=12595, \n",
        "                      input_size=25088, \n",
        "                      output_size=102, \n",
        "                      dropout=0.6):\n",
        "    \n",
        "    # Loading pre-trained network to do transfer learning\n",
        "    model = models.vgg19(pretrained=True)\n",
        "\n",
        "    # freezing parameter of feature network\n",
        "    for param in model.parameters():\n",
        "        param.requires_grad = False\n",
        "    \n",
        "    # Define feed a new forward classifier\n",
        "    classifier = nn.Sequential(OrderedDict([\n",
        "                          ('fc1', nn.Linear(input_size, hidden_units)),\n",
        "                          ('relu', nn.ReLU()),\n",
        "                          ('dropout1', nn.Dropout(p=dropout)),\n",
        "                          ('fc2', nn.Linear(hidden_units, output_size)),\n",
        "                          ('logsoftmax', nn.LogSoftmax(dim=1))\n",
        "                          ]))\n",
        "    \n",
        "    model.classifier = classifier\n",
        "    model.class_to_idx = class_to_idx\n",
        "    return model"
      ],
      "execution_count": 0,
      "outputs": []
    },
    {
      "metadata": {
        "id": "o9m-kxwKpF7F",
        "colab_type": "code",
        "colab": {}
      },
      "cell_type": "code",
      "source": [
        "hidden_units = 12595\n",
        "model = build_model_vgg19(class_to_idx, hidden_units)\n",
        "model"
      ],
      "execution_count": 0,
      "outputs": []
    },
    {
      "metadata": {
        "id": "2c1Ze9f0Hk2g",
        "colab_type": "text"
      },
      "cell_type": "markdown",
      "source": [
        "### Methods for validation and training"
      ]
    },
    {
      "metadata": {
        "id": "LkmndkqBNEDr",
        "colab_type": "code",
        "colab": {}
      },
      "cell_type": "code",
      "source": [
        "\n",
        "def validate(model, criterion, dataloader, percent=100):\n",
        "    model.eval()\n",
        "    accuracy = 0\n",
        "    valid_loss = 0\n",
        "    device = torch.device(\"cuda\" if torch.cuda.is_available() else \"cpu\")\n",
        "    model.to(device)\n",
        "    steps = 0\n",
        "    \n",
        "    for inputs, labels in iter(dataloader):\n",
        "          \n",
        "        inputs, labels = inputs.to(device), labels.to(device)\n",
        "\n",
        "        output = model.forward(inputs)\n",
        "        valid_loss += criterion(output, labels).item()\n",
        "        ps = torch.exp(output).data \n",
        "        equality = (labels.data == ps.max(1)[1])\n",
        "        accuracy += equality.type_as(torch.FloatTensor()).mean()\n",
        "        \n",
        "        steps += 1\n",
        "        status = 100*steps/len(dataloader)\n",
        "        \n",
        "        print(\"\", end='\\r')\n",
        "        print(\"{:3.0f}% done - Loss: {:3.1f} - Accuracy: {:3.0f}%  \".format(\n",
        "            status, valid_loss/steps, 100*accuracy/steps),end='')\n",
        "        \n",
        "        # This allows to do validation in a smaller part of the data\n",
        "        if steps > (percent / 100.0 * len(dataloader)):\n",
        "            break\n",
        "\n",
        "    print(\"\", end='\\r')\n",
        "    return valid_loss/steps, 100*accuracy/steps\n",
        "\n",
        "\n",
        "def train(model, criterion, optimizer, loader_train, loader_valid, epochs, learn_rate):\n",
        "    \n",
        "    data_len = len(loader_train)\n",
        "    validate_every = data_len # see validation 1 time by epoch\n",
        "    steps = 0\n",
        "    initial_t = time.time()\n",
        "    \n",
        "    model.train()\n",
        "    device = torch.device(\"cuda\" if torch.cuda.is_available() else \"cpu\")\n",
        "    model.to(device)\n",
        "    \n",
        "    # Training loop\n",
        "    for e in range(epochs):\n",
        "        running_loss = 0\n",
        "        for inputs, labels in iter(loader_train):\n",
        "            epoch_status = 100*(steps%data_len)/data_len\n",
        "            print(\"\", end='\\r')\n",
        "            print(\"Epoch {:d}/{:d} - {:3.0f}%\".format(e+1,epochs,epoch_status),end=\"\")\n",
        "            steps += 1\n",
        "            \n",
        "            inputs, labels = inputs.to(device), labels.to(device)\n",
        "\n",
        "            optimizer.zero_grad()\n",
        "            output = model.forward(inputs)\n",
        "            loss = criterion(output, labels)\n",
        "            loss.backward()\n",
        "            optimizer.step()\n",
        "            running_loss += loss.item()\n",
        "\n",
        "            \n",
        "            if steps % validate_every == 0 or steps==1:\n",
        "                print()\n",
        "                valid_loss, accuracy = validate(model, criterion, loader_valid, 10)\n",
        "                print(\"Valid Loss: {:.3f} \".format(valid_loss),\n",
        "                      \"Valid Accuracy %: {:.3f}\".format(accuracy))\n",
        "\n",
        "                running_loss = 0\n",
        "                model.train()"
      ],
      "execution_count": 0,
      "outputs": []
    },
    {
      "metadata": {
        "id": "HBi8DtxfHhR3",
        "colab_type": "text"
      },
      "cell_type": "markdown",
      "source": [
        "### Training"
      ]
    },
    {
      "metadata": {
        "id": "Fk-m1-O-pQM7",
        "colab_type": "code",
        "colab": {}
      },
      "cell_type": "code",
      "source": [
        "learn_rate = 0.003\n",
        "momentum = 0.9\n",
        "epochs = 10 # with just 3 epochs gets to > 70% accuracy\n",
        "\n",
        "if torch.cuda.is_available():\n",
        "    print(\"Using GPU\")\n",
        "    print(\"  Device name:\", torch.cuda.get_device_name(torch.cuda.device_count()-1))\n",
        "    print(\"  Number of GPUs:\", torch.cuda.device_count())\n",
        "else:\n",
        "    print(\"Using CPU\")\n",
        "\n",
        "# Loss function\n",
        "criterion = nn.NLLLoss()\n",
        "# Optimizer (Only train the classifier parameters)\n",
        "optimizer = optim.SGD(\n",
        "    model.classifier.parameters(),\n",
        "    lr=learn_rate,\n",
        "    momentum=momentum\n",
        ")\n",
        "\n",
        "print(\"Starting training:\")\n",
        "train(model, criterion, optimizer, dataloader_train, dataloader_valid, epochs, learn_rate)"
      ],
      "execution_count": 0,
      "outputs": []
    },
    {
      "metadata": {
        "id": "HSJuSLq1NEDu",
        "colab_type": "text"
      },
      "cell_type": "markdown",
      "source": [
        "## Testing your network\n",
        "\n",
        "It's good practice to test your trained network on test data, images the network has never seen either in training or validation. This will give you a good estimate for the model's performance on completely new images. Run the test images through the network and measure the accuracy, the same way you did validation. You should be able to reach around 70% accuracy on the test set if the model has been trained well."
      ]
    },
    {
      "metadata": {
        "id": "P2eJkFTiNEDv",
        "colab_type": "code",
        "colab": {}
      },
      "cell_type": "code",
      "source": [
        "# TODO: Do validation on the test set\n",
        "valid_loss, accuracy = validate(model, criterion, dataloader_test)\n",
        "print(\"Validating in test data        \")\n",
        "print(\"  Loss:     {:.1f}\".format(valid_loss))\n",
        "print(\"  Accuracy: {:.1f}%\".format(accuracy))"
      ],
      "execution_count": 0,
      "outputs": []
    },
    {
      "metadata": {
        "id": "zhRVk1Jr8wkg",
        "colab_type": "text"
      },
      "cell_type": "markdown",
      "source": [
        "## Checkpoint"
      ]
    },
    {
      "metadata": {
        "id": "MnKSALxHNEDx",
        "colab_type": "text"
      },
      "cell_type": "markdown",
      "source": [
        "### Save the checkpoint\n",
        "\n",
        "Now that your network is trained, save the model so you can load it later for making predictions. You probably want to save other things such as the mapping of classes to indices which you get from one of the image datasets: `image_datasets['train'].class_to_idx`. You can attach this to the model as an attribute which makes inference easier later on.\n",
        "\n",
        "```model.class_to_idx = image_datasets['train'].class_to_idx```\n",
        "\n",
        "Remember that you'll want to completely rebuild the model later so you can use it for inference. Make sure to include any information you need in the checkpoint. If you want to load the model and keep training, you'll want to save the number of epochs as well as the optimizer state, `optimizer.state_dict`. You'll likely want to use this trained model in the next part of the project, so best to save it now."
      ]
    },
    {
      "metadata": {
        "id": "iyXL8Gp5NEDx",
        "colab_type": "code",
        "colab": {}
      },
      "cell_type": "code",
      "source": [
        "def save_checkpoint(filename_path, model, epochs, learn_rate, hidden_units):\n",
        "\n",
        "    state = {\n",
        "        'arch': 'vgg19',\n",
        "        'learn_rate': learn_rate,\n",
        "        'hidden_units': hidden_units,\n",
        "        'epochs': epochs,\n",
        "        'state_dict': model.state_dict(),\n",
        "        'class_to_idx' : model.class_to_idx\n",
        "    }\n",
        "\n",
        "    torch.save(state, filename_path)"
      ],
      "execution_count": 0,
      "outputs": []
    },
    {
      "metadata": {
        "id": "haoUXXt-pjdh",
        "colab_type": "code",
        "colab": {}
      },
      "cell_type": "code",
      "source": [
        "save_checkpoint('vgg19_checkpoint.pth', model, epochs, learn_rate, hidden_units)"
      ],
      "execution_count": 0,
      "outputs": []
    },
    {
      "metadata": {
        "id": "ChE5agVRNED1",
        "colab_type": "text"
      },
      "cell_type": "markdown",
      "source": [
        "### Loading the checkpoint\n",
        "\n",
        "At this point it's good to write a function that can load a checkpoint and rebuild the model. That way you can come back to this project and keep working on it without having to retrain the network."
      ]
    },
    {
      "metadata": {
        "id": "fdYQF1JcNED2",
        "colab_type": "code",
        "colab": {}
      },
      "cell_type": "code",
      "source": [
        "def load_checkpoint( filename_path):\n",
        "    state = torch.load(filename_path)\n",
        "    \n",
        "    arch = state['arch']\n",
        "    learn_rate = state['learn_rate']\n",
        "    hidden_units = state['hidden_units']\n",
        "    epochs = state['epochs']\n",
        "    class_to_idx = state['class_to_idx']\n",
        "\n",
        "    model = build_model_vgg19(class_to_idx, hidden_units)\n",
        "    model.load_state_dict(state['state_dict'])\n",
        "    \n",
        "    return model, epochs, learn_rate, hidden_units"
      ],
      "execution_count": 0,
      "outputs": []
    },
    {
      "metadata": {
        "id": "87U3ZGGGpo2i",
        "colab_type": "code",
        "colab": {}
      },
      "cell_type": "code",
      "source": [
        "model, epochs, learn_rate, hidden_units = load_checkpoint('vgg19_checkpoint.pth')"
      ],
      "execution_count": 0,
      "outputs": []
    },
    {
      "metadata": {
        "id": "MIhQVu6mNED5",
        "colab_type": "text"
      },
      "cell_type": "markdown",
      "source": [
        "## Inference for classification\n",
        "\n",
        "Now you'll write a function to use a trained network for inference. That is, you'll pass an image into the network and predict the class of the flower in the image. Write a function called `predict` that takes an image and a model, then returns the top $K$ most likely classes along with the probabilities. It should look like \n",
        "\n",
        "```python\n",
        "probs, classes = predict(image_path, model)\n",
        "print(probs)\n",
        "print(classes)\n",
        "> [ 0.01558163  0.01541934  0.01452626  0.01443549  0.01407339]\n",
        "> ['70', '3', '45', '62', '55']\n",
        "```\n",
        "\n",
        "First you'll need to handle processing the input image such that it can be used in your network. \n",
        "\n",
        "## Image Preprocessing\n",
        "\n",
        "You'll want to use `PIL` to load the image ([documentation](https://pillow.readthedocs.io/en/latest/reference/Image.html)). It's best to write a function that preprocesses the image so it can be used as input for the model. This function should process the images in the same manner used for training. \n",
        "\n",
        "First, resize the images where the shortest side is 256 pixels, keeping the aspect ratio. This can be done with the [`thumbnail`](http://pillow.readthedocs.io/en/3.1.x/reference/Image.html#PIL.Image.Image.thumbnail) or [`resize`](http://pillow.readthedocs.io/en/3.1.x/reference/Image.html#PIL.Image.Image.thumbnail) methods. Then you'll need to crop out the center 224x224 portion of the image.\n",
        "\n",
        "Color channels of images are typically encoded as integers 0-255, but the model expected floats 0-1. You'll need to convert the values. It's easiest with a Numpy array, which you can get from a PIL image like so `np_image = np.array(pil_image)`.\n",
        "\n",
        "As before, the network expects the images to be normalized in a specific way. For the means, it's `[0.485, 0.456, 0.406]` and for the standard deviations `[0.229, 0.224, 0.225]`. You'll want to subtract the means from each color channel, then divide by the standard deviation. \n",
        "\n",
        "And finally, PyTorch expects the color channel to be the first dimension but it's the third dimension in the PIL image and Numpy array. You can reorder dimensions using [`ndarray.transpose`](https://docs.scipy.org/doc/numpy-1.13.0/reference/generated/numpy.ndarray.transpose.html). The color channel needs to be first and retain the order of the other two dimensions."
      ]
    },
    {
      "metadata": {
        "id": "GGd8Cx8tNED5",
        "colab_type": "code",
        "colab": {}
      },
      "cell_type": "code",
      "source": [
        "def process_image(image_path):\n",
        "    ''' Scales, crops, and normalizes a PIL image for a PyTorch model,\n",
        "        returns an Numpy array\n",
        "    '''\n",
        "    # TODO: Process a PIL image for use in a PyTorch model\n",
        "    \n",
        "    image = Image.open(image_path)\n",
        "    \n",
        "    resize_size = 256\n",
        "    final_size = 224\n",
        "    width, height = image.size\n",
        "    ratio = float(width/height);\n",
        "        \n",
        "    if height > width:\n",
        "        height = int(height * resize_size / width)\n",
        "        width = int(resize_size)\n",
        "    else:\n",
        "        width = int(width * resize_size / height)\n",
        "        height = int(resize_size)\n",
        "        \n",
        "    resized_image = image.resize((width, height), Image.ANTIALIAS)\n",
        "    \n",
        "    # Crop center portion of the image\n",
        "    x0 = (width - final_size) / 2\n",
        "    y0 = (height - final_size) / 2\n",
        "    x1 = x0 + final_size\n",
        "    y1 = y0 + final_size\n",
        "    crop_image = resized_image.crop((x0,y0,x1, y1))\n",
        "    \n",
        "    # Normalize:\n",
        "    np_image = np.array(crop_image) / 255\n",
        "    mean = np.array([0.485, 0.456, 0.406])\n",
        "    std = np.array([0.229, 0.224, 0.225])\n",
        "    np_image = (np_image - mean) / std\n",
        "    \n",
        "    return np_image.transpose(2,0,1)"
      ],
      "execution_count": 0,
      "outputs": []
    },
    {
      "metadata": {
        "id": "YQfdTIYYNED9",
        "colab_type": "text"
      },
      "cell_type": "markdown",
      "source": [
        "To check your work, the function below converts a PyTorch tensor and displays it in the notebook. If your `process_image` function works, running the output through this function should return the original image (except for the cropped out portions)."
      ]
    },
    {
      "metadata": {
        "id": "jTBE5Yp2NED_",
        "colab_type": "code",
        "colab": {}
      },
      "cell_type": "code",
      "source": [
        "def imshow(image, ax=None, title=None):\n",
        "    if ax is None:\n",
        "        fig, ax = plt.subplots()\n",
        "    \n",
        "    # PyTorch tensors assume the color channel is the first dimension\n",
        "    # but matplotlib assumes is the third dimension\n",
        "    image = image.transpose((1, 2, 0))\n",
        "    \n",
        "    # Undo preprocessing\n",
        "    mean = np.array([0.485, 0.456, 0.406])\n",
        "    std = np.array([0.229, 0.224, 0.225])\n",
        "    image = std * image + mean\n",
        "    \n",
        "    # Image needs to be clipped between 0 and 1 or it looks like noise when displayed\n",
        "    image = np.clip(image, 0, 1)\n",
        "    \n",
        "    ax.imshow(image)\n",
        "    \n",
        "    return ax"
      ],
      "execution_count": 0,
      "outputs": []
    },
    {
      "metadata": {
        "id": "T7ei0r9Kp29I",
        "colab_type": "code",
        "colab": {}
      },
      "cell_type": "code",
      "source": [
        "\n",
        "image_path = 'flowers/test/91/image_08061.jpg'\n",
        "imshow(process_image(image_path))\n",
        "the_flower= cat_to_name['91']\n",
        "print(\"Flower Class: {}\".format(the_flower))"
      ],
      "execution_count": 0,
      "outputs": []
    },
    {
      "metadata": {
        "id": "-8KWSkuFNEEB",
        "colab_type": "text"
      },
      "cell_type": "markdown",
      "source": [
        "## Class Prediction\n",
        "\n",
        "Once you can get images in the correct format, it's time to write a function for making predictions with your model. A common practice is to predict the top 5 or so (usually called top-$K$) most probable classes. You'll want to calculate the class probabilities then find the $K$ largest values.\n",
        "\n",
        "To get the top $K$ largest values in a tensor use [`x.topk(k)`](http://pytorch.org/docs/master/torch.html#torch.topk). This method returns both the highest `k` probabilities and the indices of those probabilities corresponding to the classes. You need to convert from these indices to the actual class labels using `class_to_idx` which hopefully you added to the model or from an `ImageFolder` you used to load the data ([see here](#Save-the-checkpoint)). Make sure to invert the dictionary so you get a mapping from index to class as well.\n",
        "\n",
        "Again, this method should take a path to an image and a model checkpoint, then return the probabilities and classes.\n",
        "\n",
        "```python\n",
        "probs, classes = predict(image_path, model)\n",
        "print(probs)\n",
        "print(classes)\n",
        "> [ 0.01558163  0.01541934  0.01452626  0.01443549  0.01407339]\n",
        "> ['70', '3', '45', '62', '55']\n",
        "```"
      ]
    },
    {
      "metadata": {
        "id": "BRFoJf71NEED",
        "colab_type": "code",
        "colab": {}
      },
      "cell_type": "code",
      "source": [
        "def predict(image_path, model, topk=5):\n",
        "    ''' Predict the class (or classes) of an image using a trained deep learning model.\n",
        "    '''\n",
        "    \n",
        "    # TODO: Implement the code to predict the class from an image file\n",
        "    model.eval()\n",
        "\n",
        "    np_array = process_image(image_path)\n",
        "    tensor_in = torch.from_numpy(np_array)\n",
        "\n",
        "    device = torch.device(\"cuda\" if torch.cuda.is_available() else \"cpu\")\n",
        "\n",
        "    tensor_in = tensor_in.float() \n",
        "    tensor_in = tensor_in.unsqueeze(0)\n",
        "\n",
        "    model.to(device)\n",
        "    tensor_in.to(device)\n",
        "\n",
        "    with torch.no_grad():\n",
        "      output = model.forward(tensor_in.cuda())  \n",
        "\n",
        "    output = torch.exp(output)\n",
        "\n",
        "    topk_probs, topk_indexes = torch.topk(output, topk) \n",
        "    topk_probs = topk_probs.tolist()[0]\n",
        "    topk_indexes = topk_indexes.tolist()[0]\n",
        "    \n",
        "    idx_to_cat = {val: key for key, val in model.class_to_idx.items()}\n",
        "    \n",
        "    top_cats = [idx_to_cat[index] for index in topk_indexes ]\n",
        "#     top_labels = [cat_to_name[cat] for cat in top_cats ]\n",
        "\n",
        "    return topk_probs, top_cats# , top_labels\n",
        "\n",
        "image_path = 'flowers/test/91/image_08061.jpg'\n",
        "probabilities, classes = predict(image_path, model)\n",
        "\n",
        "print(probabilities)\n",
        "print(classes)"
      ],
      "execution_count": 0,
      "outputs": []
    },
    {
      "metadata": {
        "id": "I-nsuQorNEEG",
        "colab_type": "text"
      },
      "cell_type": "markdown",
      "source": [
        "## Sanity Checking\n",
        "\n",
        "Now that you can use a trained model for predictions, check to make sure it makes sense. Even if the testing accuracy is high, it's always good to check that there aren't obvious bugs. Use `matplotlib` to plot the probabilities for the top 5 classes as a bar graph, along with the input image. It should look like this:\n",
        "\n",
        "<img src='https://github.com/udacity/aipnd-project/blob/master/assets/inference_example.png?raw=true' width=300px >\n",
        "\n",
        "You can convert from the class integer encoding to actual flower names with the `cat_to_name.json` file (should have been loaded earlier in the notebook). To show a PyTorch tensor as an image, use the `imshow` function defined above."
      ]
    },
    {
      "metadata": {
        "id": "tiP-jVTGNEEG",
        "colab_type": "code",
        "colab": {}
      },
      "cell_type": "code",
      "source": [
        "# TODO: Display an image along with the top 5 classes\n",
        "\n",
        "# image_path = 'flowers/test/13/image_05769.jpg'\n",
        "image_path = 'flowers/valid/20/image_04903.jpg'\n",
        "\n",
        "top_labels = [cat_to_name[cat] for cat in classes ]\n",
        "print('probabilities:', probs, '\\nclasses:', top_labels, '\\n')\n",
        "\n",
        "probs, classes = predict(image_path, model)\n",
        "max_index = np.argmax(probs)\n",
        "max_probability = probs[max_index]\n",
        "label = classes[max_index]\n",
        "\n",
        "plt.figure(figsize=(6,12))\n",
        "ax1 = plt.subplot(2,1,1)\n",
        "ax2 = plt.subplot(2,1,2)\n",
        "\n",
        "image = Image.open(image_path)\n",
        "ax1.axis('off')\n",
        "ax1.set_title('Flower : ' + cat_to_name[label])\n",
        "ax1.imshow(image)\n",
        "\n",
        "y_pos = np.arange(5)\n",
        "ax2.set_title('Topk=5 Probabilities')\n",
        "ax2.set_yticks(y_pos)\n",
        "ax2.set_yticklabels(top_labels)\n",
        "ax2.set_xlabel('Probability')\n",
        "ax2.barh(y_pos, probs, align='center')\n",
        "ax2.invert_yaxis()\n",
        "\n",
        "plt.show()"
      ],
      "execution_count": 0,
      "outputs": []
    }
  ]
}