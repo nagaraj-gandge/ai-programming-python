{
 "cells": [
  {
   "cell_type": "markdown",
   "metadata": {},
   "source": [
    "# Introduction to NumPy\n",
    "\n",
    "NumPy stands for Numerical Python and it's a fundamental package for scientific computing in Python. NumPy provides Python with an extensive math library capable of performing numerical computations effectively and efficiently. These lessons are intended as a basic overview of NumPy and introduces some of its most important features.\n",
    "\n",
    "In the following lessons you will learn:\n",
    "\n",
    "* How to import NumPy\n",
    "* How to create multidimensional NumPy ndarrays using various methods\n",
    "* How to access and change elements in ndarrays\n",
    "* How to load and save ndarrays\n",
    "* How to use slicing to select or change subsets of an ndarray\n",
    "* Understand the difference between a view and a copy an of ndarray\n",
    "* How to use Boolean indexing and set operations to select or change subsets of an ndarray\n",
    "* How to sort ndarrays\n",
    "* How to perform element-wise operations on ndarrays\n",
    "* Understand how NumPy uses broadcasting to perform operations on ndarrays of different sizes.\n",
    "\n",
    "## Downloading NumPy\n",
    "\n",
    "NumPy is included with Anaconda. If you don't already have Anaconda installed on your computer, please refer to the Anaconda section to get clear instructions on how to install Anaconda on your PC or Mac.\n",
    "\n",
    "## NumPy Versions\n",
    "\n",
    "As with many Python packages, NumPy is updated from time to time. The following lessons were created using NumPy version 1.13.0. You can check which version of NumPy you have by typing **`!conda list numpy`** in your Jupyter Notebook or by typing **`conda list numpy`** in the Anaconda prompt. If you have another version of NumPy installed in your computer, you can update your version by typing **`conda install numpy=1.13`** in the Anaconda prompt. As newer versions of NumPy are released, some functions may become obsolete or replaced, so make sure you have the correct NumPy version before running the code. This will guarantee your code will run smoothly.\n",
    "\n",
    "## NumPy Documentation\n",
    "\n",
    "NumPy is a remarkable math library and it has many functions and features. In these introductory lessons we will only scratch the surface of what NumPy can do. If you want to learn more about NumPy, make sure you check out the NumPy Documentation:\n",
    "\n",
    "[NumPy Manual](https://docs.scipy.org/doc/numpy-1.13.0/contents.html)\n",
    "\n",
    "[NumPy User Guide](https://docs.scipy.org/doc/numpy-1.13.0/user/index.html)\n",
    "\n",
    "[NumPy Reference](https://docs.scipy.org/doc/numpy-1.13.0/reference/index.html#reference)\n",
    "\n",
    "[Scipy Lectures](http://www.scipy-lectures.org/intro/numpy/index.html)\n"
   ]
  }
 ],
 "metadata": {
  "kernelspec": {
   "display_name": "Python 3",
   "language": "python",
   "name": "python3"
  },
  "language_info": {
   "codemirror_mode": {
    "name": "ipython",
    "version": 3
   },
   "file_extension": ".py",
   "mimetype": "text/x-python",
   "name": "python",
   "nbconvert_exporter": "python",
   "pygments_lexer": "ipython3",
   "version": "3.6.5"
  }
 },
 "nbformat": 4,
 "nbformat_minor": 2
}
